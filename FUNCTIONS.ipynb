{
  "nbformat": 4,
  "nbformat_minor": 0,
  "metadata": {
    "colab": {
      "name": "3-08-2021 ML LAB.ipynb",
      "provenance": [],
      "collapsed_sections": []
    },
    "kernelspec": {
      "name": "python3",
      "display_name": "Python 3"
    },
    "language_info": {
      "name": "python"
    }
  },
  "cells": [
    {
      "cell_type": "markdown",
      "metadata": {
        "id": "SFhW6JIDJNof"
      },
      "source": [
        "FUNCTIONS\n"
      ]
    },
    {
      "cell_type": "code",
      "metadata": {
        "id": "6HwSHwkoJLHg"
      },
      "source": [
        "def fibonacci (pos):\n",
        "    a=1\n",
        "    b=1\n",
        "    for i in range(pos):\n",
        "        temp = a+b\n",
        "        a=b\n",
        "        b=temp\n",
        "    return temp"
      ],
      "execution_count": null,
      "outputs": []
    },
    {
      "cell_type": "code",
      "metadata": {
        "colab": {
          "base_uri": "https://localhost:8080/"
        },
        "id": "3FGLIACqKc6Q",
        "outputId": "e20048c2-8312-453b-f050-a9fafb5e15d9"
      },
      "source": [
        "print(fibonacci(8),fibonacci(7))\n"
      ],
      "execution_count": null,
      "outputs": [
        {
          "output_type": "stream",
          "text": [
            "55 34\n"
          ],
          "name": "stdout"
        }
      ]
    },
    {
      "cell_type": "code",
      "metadata": {
        "id": "ETZten6VLepi"
      },
      "source": [
        "def fibonacci_relative (pos,a,b):\n",
        "    a=1\n",
        "    b=1\n",
        "    for i in range(pos):\n",
        "        temp = a+b\n",
        "        a=b\n",
        "        b=temp\n",
        "    return temp"
      ],
      "execution_count": null,
      "outputs": []
    },
    {
      "cell_type": "code",
      "metadata": {
        "colab": {
          "base_uri": "https://localhost:8080/"
        },
        "id": "JHvJXtsrMbWs",
        "outputId": "dbe72933-727f-4e78-ea55-cd63ea7a15bf"
      },
      "source": [
        " print(fibonacci_relative (3,1,1))"
      ],
      "execution_count": null,
      "outputs": [
        {
          "output_type": "stream",
          "text": [
            "5\n"
          ],
          "name": "stdout"
        }
      ]
    },
    {
      "cell_type": "code",
      "metadata": {
        "id": "OrGYx7LHM1FT"
      },
      "source": [
        "def fibonacci_new (pos,a=1,b=1):\n",
        "    a=1\n",
        "    b=1\n",
        "    for i in range(pos):\n",
        "        temp = a+b\n",
        "        a=b\n",
        "        b=temp\n",
        "    return temp"
      ],
      "execution_count": null,
      "outputs": []
    },
    {
      "cell_type": "code",
      "metadata": {
        "colab": {
          "base_uri": "https://localhost:8080/"
        },
        "id": "157NDiWsM7m6",
        "outputId": "b409f7f4-a22f-449c-ea34-713a308a6a09"
      },
      "source": [
        "print(fibonacci_new(3))"
      ],
      "execution_count": null,
      "outputs": [
        {
          "output_type": "stream",
          "text": [
            "5\n"
          ],
          "name": "stdout"
        }
      ]
    },
    {
      "cell_type": "code",
      "metadata": {
        "colab": {
          "base_uri": "https://localhost:8080/"
        },
        "id": "khNCcmyvNEHK",
        "outputId": "5aaff676-8af1-48ae-de4f-3715e24dee85"
      },
      "source": [
        "print(fibonacci_new(3,1,1))"
      ],
      "execution_count": null,
      "outputs": [
        {
          "output_type": "stream",
          "text": [
            "5\n"
          ],
          "name": "stdout"
        }
      ]
    },
    {
      "cell_type": "code",
      "metadata": {
        "colab": {
          "base_uri": "https://localhost:8080/"
        },
        "id": "wAAxfoRnNosZ",
        "outputId": "36ad5a1c-c079-4f95-e28e-a46131fdb34b"
      },
      "source": [
        "print(fibonacci_new(3,34,55))"
      ],
      "execution_count": null,
      "outputs": [
        {
          "output_type": "stream",
          "text": [
            "5\n"
          ],
          "name": "stdout"
        }
      ]
    },
    {
      "cell_type": "markdown",
      "metadata": {
        "id": "f3Gfs_6JNvuR"
      },
      "source": [
        "RECURSIVE FUNCTION"
      ]
    },
    {
      "cell_type": "code",
      "metadata": {
        "id": "N6wg39OfNvKC"
      },
      "source": [
        "def fibonacci_recursive(n,a=1,b=1):\n",
        "    if n>1:\n",
        "        return fibonacci_recursive(n-1,b,a+b)\n",
        "    else:\n",
        "        return a+b\n"
      ],
      "execution_count": null,
      "outputs": []
    },
    {
      "cell_type": "code",
      "metadata": {
        "colab": {
          "base_uri": "https://localhost:8080/"
        },
        "id": "sgpXz_twOS2J",
        "outputId": "71a30262-3749-46a0-d6f9-65b324f75b88"
      },
      "source": [
        "print(fibonacci_recursive(3,1,2))"
      ],
      "execution_count": null,
      "outputs": [
        {
          "output_type": "stream",
          "text": [
            "8\n"
          ],
          "name": "stdout"
        }
      ]
    },
    {
      "cell_type": "markdown",
      "metadata": {
        "id": "S2e2i3JVOm4D"
      },
      "source": [
        "LISTS,TUPLES,SETS\n"
      ]
    },
    {
      "cell_type": "code",
      "metadata": {
        "id": "slvB0pp_OaRa"
      },
      "source": [
        "course_name=\"Foundation of Machine Learning\"\n"
      ],
      "execution_count": null,
      "outputs": []
    },
    {
      "cell_type": "code",
      "metadata": {
        "id": "OPhW1B2kOYgQ"
      },
      "source": [
        "words=course_name.split()\n"
      ],
      "execution_count": null,
      "outputs": []
    },
    {
      "cell_type": "code",
      "metadata": {
        "colab": {
          "base_uri": "https://localhost:8080/"
        },
        "id": "yXp8fFHiO5eB",
        "outputId": "1ead5586-aa9e-4896-9d65-6f01ca6856a5"
      },
      "source": [
        "print(words)"
      ],
      "execution_count": null,
      "outputs": [
        {
          "output_type": "stream",
          "text": [
            "['Foundation', 'of', 'Machine', 'Learning']\n"
          ],
          "name": "stdout"
        }
      ]
    },
    {
      "cell_type": "code",
      "metadata": {
        "colab": {
          "base_uri": "https://localhost:8080/"
        },
        "id": "L57GsVzvPfP8",
        "outputId": "b629ed7c-9d98-4c2e-b942-fb33ae696af4"
      },
      "source": [
        "print(type(words))"
      ],
      "execution_count": null,
      "outputs": [
        {
          "output_type": "stream",
          "text": [
            "<class 'list'>\n"
          ],
          "name": "stdout"
        }
      ]
    },
    {
      "cell_type": "code",
      "metadata": {
        "colab": {
          "base_uri": "https://localhost:8080/"
        },
        "id": "nKcs0SeMPjvr",
        "outputId": "66a77ab0-8665-47d9-e36c-274642b9c51c"
      },
      "source": [
        "print(words[0])"
      ],
      "execution_count": null,
      "outputs": [
        {
          "output_type": "stream",
          "text": [
            "Foundation\n"
          ],
          "name": "stdout"
        }
      ]
    },
    {
      "cell_type": "code",
      "metadata": {
        "colab": {
          "base_uri": "https://localhost:8080/"
        },
        "id": "rZd1XXfsPonK",
        "outputId": "f5e55a78-7637-47e2-c582-92469792ccc7"
      },
      "source": [
        "print(words[-1])"
      ],
      "execution_count": null,
      "outputs": [
        {
          "output_type": "stream",
          "text": [
            "Learning\n"
          ],
          "name": "stdout"
        }
      ]
    },
    {
      "cell_type": "code",
      "metadata": {
        "colab": {
          "base_uri": "https://localhost:8080/"
        },
        "id": "dCtFoOe9Ptyj",
        "outputId": "e697d82b-d2d3-4f7e-e0f4-eab52f8cde59"
      },
      "source": [
        "print(words[-2])"
      ],
      "execution_count": null,
      "outputs": [
        {
          "output_type": "stream",
          "text": [
            "Machine\n"
          ],
          "name": "stdout"
        }
      ]
    },
    {
      "cell_type": "code",
      "metadata": {
        "colab": {
          "base_uri": "https://localhost:8080/"
        },
        "id": "JWIHEwK6P-s1",
        "outputId": "8b9e55f7-6df1-4b8e-d0d8-111e36510381"
      },
      "source": [
        "print(words[0:1])"
      ],
      "execution_count": null,
      "outputs": [
        {
          "output_type": "stream",
          "text": [
            "['Foundation']\n"
          ],
          "name": "stdout"
        }
      ]
    },
    {
      "cell_type": "code",
      "metadata": {
        "colab": {
          "base_uri": "https://localhost:8080/"
        },
        "id": "OawsLfTNQCgL",
        "outputId": "abba73ad-666b-495b-d8be-7e85e7ee6879"
      },
      "source": [
        "print(words[1:])"
      ],
      "execution_count": null,
      "outputs": [
        {
          "output_type": "stream",
          "text": [
            "['of', 'Machine', 'Learning']\n"
          ],
          "name": "stdout"
        }
      ]
    },
    {
      "cell_type": "markdown",
      "metadata": {
        "id": "soSrAp0gQbjT"
      },
      "source": [
        "CREATING A LIST"
      ]
    },
    {
      "cell_type": "code",
      "metadata": {
        "id": "fL68EYgXQHFb"
      },
      "source": [
        "new_words=(\"Machine\",\"Learning\")"
      ],
      "execution_count": null,
      "outputs": []
    },
    {
      "cell_type": "code",
      "metadata": {
        "colab": {
          "base_uri": "https://localhost:8080/"
        },
        "id": "WVzdf_KJQZtT",
        "outputId": "cf392c95-899f-47a7-bd7d-3ad61db2c26a"
      },
      "source": [
        "print(type(words[0]))"
      ],
      "execution_count": null,
      "outputs": [
        {
          "output_type": "stream",
          "text": [
            "<class 'str'>\n"
          ],
          "name": "stdout"
        }
      ]
    },
    {
      "cell_type": "code",
      "metadata": {
        "colab": {
          "base_uri": "https://localhost:8080/"
        },
        "id": "0mQGUAgvQmjT",
        "outputId": "12b4aa04-8774-4083-f056-f9e23487045e"
      },
      "source": [
        "print(new_words[0])"
      ],
      "execution_count": null,
      "outputs": [
        {
          "output_type": "stream",
          "text": [
            "Machine\n"
          ],
          "name": "stdout"
        }
      ]
    },
    {
      "cell_type": "code",
      "metadata": {
        "id": "dxWFfb2OQsZr"
      },
      "source": [
        "fibonacci_series=[1,1,2,3,5,8,13,21]"
      ],
      "execution_count": null,
      "outputs": []
    },
    {
      "cell_type": "code",
      "metadata": {
        "colab": {
          "base_uri": "https://localhost:8080/"
        },
        "id": "jgx2NbAfQ2T8",
        "outputId": "7e661d84-52d6-4ad4-bfc4-1929c6431cf7"
      },
      "source": [
        "print(type(fibonacci_series))"
      ],
      "execution_count": null,
      "outputs": [
        {
          "output_type": "stream",
          "text": [
            "<class 'list'>\n"
          ],
          "name": "stdout"
        }
      ]
    },
    {
      "cell_type": "code",
      "metadata": {
        "colab": {
          "base_uri": "https://localhost:8080/"
        },
        "id": "6OpbRJVqQ84D",
        "outputId": "3014a096-097c-4567-c81a-06fcc4025bf8"
      },
      "source": [
        "print(fibonacci_series[0]+10)"
      ],
      "execution_count": null,
      "outputs": [
        {
          "output_type": "stream",
          "text": [
            "11\n"
          ],
          "name": "stdout"
        }
      ]
    },
    {
      "cell_type": "code",
      "metadata": {
        "colab": {
          "base_uri": "https://localhost:8080/"
        },
        "id": "ki7to1iORIFT",
        "outputId": "8d740abd-5c01-4565-f8d4-bf2656db1d0c"
      },
      "source": [
        "for num in fibonacci_series:\n",
        "  print(num+10)"
      ],
      "execution_count": null,
      "outputs": [
        {
          "output_type": "stream",
          "text": [
            "11\n",
            "11\n",
            "12\n",
            "13\n",
            "15\n",
            "18\n",
            "23\n",
            "31\n"
          ],
          "name": "stdout"
        }
      ]
    },
    {
      "cell_type": "code",
      "metadata": {
        "colab": {
          "base_uri": "https://localhost:8080/"
        },
        "id": "7eHDoQFHRPOD",
        "outputId": "8e81f485-703d-403a-b5f3-8752ab7a08b5"
      },
      "source": [
        "print(fibonacci_series)"
      ],
      "execution_count": null,
      "outputs": [
        {
          "output_type": "stream",
          "text": [
            "[1, 1, 2, 3, 5, 8, 13, 21]\n"
          ],
          "name": "stdout"
        }
      ]
    },
    {
      "cell_type": "code",
      "metadata": {
        "id": "OJ8kMYfeRduj"
      },
      "source": [
        "length=len(fibonacci_series)"
      ],
      "execution_count": null,
      "outputs": []
    },
    {
      "cell_type": "code",
      "metadata": {
        "colab": {
          "base_uri": "https://localhost:8080/"
        },
        "id": "cBFeKpmWRkHM",
        "outputId": "0ad6227f-3dbd-49b3-b188-d0e3dc95446f"
      },
      "source": [
        "print(length)"
      ],
      "execution_count": null,
      "outputs": [
        {
          "output_type": "stream",
          "text": [
            "8\n"
          ],
          "name": "stdout"
        }
      ]
    },
    {
      "cell_type": "code",
      "metadata": {
        "colab": {
          "base_uri": "https://localhost:8080/"
        },
        "id": "RgtlaArQRmxb",
        "outputId": "40905e44-1771-47f2-c308-7d13a12c1877"
      },
      "source": [
        "for i in range(length):\n",
        "    print(fibonacci_series[i])"
      ],
      "execution_count": null,
      "outputs": [
        {
          "output_type": "stream",
          "text": [
            "1\n",
            "1\n",
            "2\n",
            "3\n",
            "5\n",
            "8\n",
            "13\n",
            "21\n"
          ],
          "name": "stdout"
        }
      ]
    },
    {
      "cell_type": "code",
      "metadata": {
        "id": "jMUBVJR1R_y8"
      },
      "source": [
        "bmi_record=[\"krishna\",75,1.73,False]"
      ],
      "execution_count": null,
      "outputs": []
    },
    {
      "cell_type": "code",
      "metadata": {
        "colab": {
          "base_uri": "https://localhost:8080/"
        },
        "id": "nvbNL753SWEO",
        "outputId": "8a9d5fe6-bec4-42cf-e8ce-1e8ad9b4a97d"
      },
      "source": [
        "print(type(bmi_record))"
      ],
      "execution_count": null,
      "outputs": [
        {
          "output_type": "stream",
          "text": [
            "<class 'list'>\n"
          ],
          "name": "stdout"
        }
      ]
    },
    {
      "cell_type": "code",
      "metadata": {
        "id": "JsBtHxunSQVV"
      },
      "source": [
        "bmi_record[0]=\"krishna A\""
      ],
      "execution_count": null,
      "outputs": []
    },
    {
      "cell_type": "code",
      "metadata": {
        "colab": {
          "base_uri": "https://localhost:8080/"
        },
        "id": "U7FCOSqfSNyk",
        "outputId": "d55bd257-c6f1-4231-8fa4-7ffd37995ff4"
      },
      "source": [
        "print(bmi_record)"
      ],
      "execution_count": null,
      "outputs": [
        {
          "output_type": "stream",
          "text": [
            "['krishna A', 75, 1.73, False]\n"
          ],
          "name": "stdout"
        }
      ]
    },
    {
      "cell_type": "code",
      "metadata": {
        "id": "9S6N5iFCSpAk"
      },
      "source": [
        "bmi_record.append(\"krishna@gmail.com\")"
      ],
      "execution_count": null,
      "outputs": []
    },
    {
      "cell_type": "markdown",
      "metadata": {
        "id": "UOY9-3q3S8fE"
      },
      "source": [
        "LISTS OF LIST"
      ]
    },
    {
      "cell_type": "code",
      "metadata": {
        "colab": {
          "base_uri": "https://localhost:8080/"
        },
        "id": "4ZDppb0QS6lb",
        "outputId": "13d99b2d-455a-4f9a-e20a-ff4221dfd504"
      },
      "source": [
        "bmi_database=[\n",
        "              [\"krishna\",75,1.73,False],\n",
        "              [\"bheem\",120,1.78,True]\n",
        "]\n",
        "print(type(bmi_database))"
      ],
      "execution_count": null,
      "outputs": [
        {
          "output_type": "stream",
          "text": [
            "<class 'list'>\n"
          ],
          "name": "stdout"
        }
      ]
    },
    {
      "cell_type": "code",
      "metadata": {
        "colab": {
          "base_uri": "https://localhost:8080/"
        },
        "id": "JXH_y562TiIM",
        "outputId": "4ef3374e-5711-404d-8210-7b34567c201e"
      },
      "source": [
        "print(bmi_database[0])"
      ],
      "execution_count": null,
      "outputs": [
        {
          "output_type": "stream",
          "text": [
            "['krishna', 75, 1.73, False]\n"
          ],
          "name": "stdout"
        }
      ]
    },
    {
      "cell_type": "code",
      "metadata": {
        "colab": {
          "base_uri": "https://localhost:8080/"
        },
        "id": "0wTy-C2_TfYr",
        "outputId": "7968092e-b091-491a-8c8e-b293d585f7e2"
      },
      "source": [
        "print(type(bmi_database[1][2]))"
      ],
      "execution_count": null,
      "outputs": [
        {
          "output_type": "stream",
          "text": [
            "<class 'float'>\n"
          ],
          "name": "stdout"
        }
      ]
    },
    {
      "cell_type": "markdown",
      "metadata": {
        "id": "GPq275FyVn_z"
      },
      "source": [
        "TUPLES"
      ]
    },
    {
      "cell_type": "code",
      "metadata": {
        "id": "oKvwLdX-XOOo"
      },
      "source": [
        "bmi_categories=[\"underweight\",\"obesity\",\"normal\"]"
      ],
      "execution_count": null,
      "outputs": []
    },
    {
      "cell_type": "code",
      "metadata": {
        "colab": {
          "base_uri": "https://localhost:8080/"
        },
        "id": "6jJOFy0XT2IN",
        "outputId": "de517946-4b60-4c91-8792-e54ecdb64364"
      },
      "source": [
        "print(type(bmi_categories))"
      ],
      "execution_count": null,
      "outputs": [
        {
          "output_type": "stream",
          "text": [
            "<class 'list'>\n"
          ],
          "name": "stdout"
        }
      ]
    },
    {
      "cell_type": "code",
      "metadata": {
        "colab": {
          "base_uri": "https://localhost:8080/"
        },
        "id": "0f8XENLvWzJb",
        "outputId": "122c8983-a305-45e8-f271-7f4cc256d373"
      },
      "source": [
        "print(bmi_categories[-1])"
      ],
      "execution_count": null,
      "outputs": [
        {
          "output_type": "stream",
          "text": [
            "normal\n"
          ],
          "name": "stdout"
        }
      ]
    },
    {
      "cell_type": "code",
      "metadata": {
        "colab": {
          "base_uri": "https://localhost:8080/"
        },
        "id": "NwaxXV3fW4-j",
        "outputId": "5cd4052d-b16e-4fcd-9051-5d0b0fc5fa13"
      },
      "source": [
        "print(bmi_categories[0])"
      ],
      "execution_count": null,
      "outputs": [
        {
          "output_type": "stream",
          "text": [
            "underweight\n"
          ],
          "name": "stdout"
        }
      ]
    },
    {
      "cell_type": "code",
      "metadata": {
        "colab": {
          "base_uri": "https://localhost:8080/"
        },
        "id": "ssE7mAboXXSJ",
        "outputId": "40022902-946d-416a-cf43-797872986252"
      },
      "source": [
        "print(bmi_categories[0:2])"
      ],
      "execution_count": null,
      "outputs": [
        {
          "output_type": "stream",
          "text": [
            "['underweight', 'obesity']\n"
          ],
          "name": "stdout"
        }
      ]
    },
    {
      "cell_type": "code",
      "metadata": {
        "colab": {
          "base_uri": "https://localhost:8080/",
          "height": 166
        },
        "id": "70ZGrH9VXegu",
        "outputId": "a0fa6197-d358-403f-d533-215c3e004996"
      },
      "source": [
        "bmi_categories[3]=\"over\""
      ],
      "execution_count": null,
      "outputs": [
        {
          "output_type": "error",
          "ename": "IndexError",
          "evalue": "ignored",
          "traceback": [
            "\u001b[0;31m---------------------------------------------------------------------------\u001b[0m",
            "\u001b[0;31mIndexError\u001b[0m                                Traceback (most recent call last)",
            "\u001b[0;32m<ipython-input-104-f09102b45459>\u001b[0m in \u001b[0;36m<module>\u001b[0;34m()\u001b[0m\n\u001b[0;32m----> 1\u001b[0;31m \u001b[0mbmi_categories\u001b[0m\u001b[0;34m[\u001b[0m\u001b[0;36m3\u001b[0m\u001b[0;34m]\u001b[0m\u001b[0;34m=\u001b[0m\u001b[0;34m\"over\"\u001b[0m\u001b[0;34m\u001b[0m\u001b[0;34m\u001b[0m\u001b[0m\n\u001b[0m",
            "\u001b[0;31mIndexError\u001b[0m: list assignment index out of range"
          ]
        }
      ]
    },
    {
      "cell_type": "markdown",
      "metadata": {
        "id": "csTPozMVXmdS"
      },
      "source": [
        "SET\n"
      ]
    },
    {
      "cell_type": "code",
      "metadata": {
        "id": "7eUxFXghXl1q"
      },
      "source": [
        "batsman={\"rohit\",\"virat\",\"ravindra\",\"rahul\"}"
      ],
      "execution_count": null,
      "outputs": []
    },
    {
      "cell_type": "code",
      "metadata": {
        "colab": {
          "base_uri": "https://localhost:8080/"
        },
        "id": "fFhziJjYXyN6",
        "outputId": "97ef82d4-cb73-4fab-a35c-b06254f76eed"
      },
      "source": [
        "print(type(batsman))"
      ],
      "execution_count": null,
      "outputs": [
        {
          "output_type": "stream",
          "text": [
            "<class 'set'>\n"
          ],
          "name": "stdout"
        }
      ]
    },
    {
      "cell_type": "code",
      "metadata": {
        "colab": {
          "base_uri": "https://localhost:8080/",
          "height": 166
        },
        "id": "LUPwY_z2XyU5",
        "outputId": "1e5ad159-fc18-4fa8-cfdc-8024ae56315d"
      },
      "source": [
        "batsman.index[\"rohit\"]"
      ],
      "execution_count": null,
      "outputs": [
        {
          "output_type": "error",
          "ename": "AttributeError",
          "evalue": "ignored",
          "traceback": [
            "\u001b[0;31m---------------------------------------------------------------------------\u001b[0m",
            "\u001b[0;31mAttributeError\u001b[0m                            Traceback (most recent call last)",
            "\u001b[0;32m<ipython-input-122-6d884a6f1ba3>\u001b[0m in \u001b[0;36m<module>\u001b[0;34m()\u001b[0m\n\u001b[0;32m----> 1\u001b[0;31m \u001b[0mbatsman\u001b[0m\u001b[0;34m.\u001b[0m\u001b[0mindex\u001b[0m\u001b[0;34m[\u001b[0m\u001b[0;34m\"rohit\"\u001b[0m\u001b[0;34m]\u001b[0m\u001b[0;34m\u001b[0m\u001b[0;34m\u001b[0m\u001b[0m\n\u001b[0m",
            "\u001b[0;31mAttributeError\u001b[0m: 'set' object has no attribute 'index'"
          ]
        }
      ]
    },
    {
      "cell_type": "code",
      "metadata": {
        "id": "bmB3wGDEX8Ha"
      },
      "source": [
        "bowlers={\"ishant\",\"ravindra\",\"sachin\"}"
      ],
      "execution_count": null,
      "outputs": []
    },
    {
      "cell_type": "code",
      "metadata": {
        "id": "LILYGFZhYFsn"
      },
      "source": [
        "all_rounders=batsman.union(bowlers)"
      ],
      "execution_count": null,
      "outputs": []
    },
    {
      "cell_type": "code",
      "metadata": {
        "colab": {
          "base_uri": "https://localhost:8080/"
        },
        "id": "p9bmAGieYfuT",
        "outputId": "ac174843-f637-4940-9758-1d533bd606c4"
      },
      "source": [
        "print(all_rounders)"
      ],
      "execution_count": null,
      "outputs": [
        {
          "output_type": "stream",
          "text": [
            "{'rohit', 'ishant', 'sachin', 'ravindra', 'virat', 'rahul'}\n"
          ],
          "name": "stdout"
        }
      ]
    },
    {
      "cell_type": "code",
      "metadata": {
        "id": "kSXo5FdmZmb6"
      },
      "source": [
        "all_rounders=batsman.intersection(bowlers)"
      ],
      "execution_count": null,
      "outputs": []
    },
    {
      "cell_type": "code",
      "metadata": {
        "colab": {
          "base_uri": "https://localhost:8080/"
        },
        "id": "kuQBwYYraFa7",
        "outputId": "24ea341d-319c-4894-e687-7732607708aa"
      },
      "source": [
        "print(all_rounders)"
      ],
      "execution_count": null,
      "outputs": [
        {
          "output_type": "stream",
          "text": [
            "{'ravindra'}\n"
          ],
          "name": "stdout"
        }
      ]
    }
  ]
}